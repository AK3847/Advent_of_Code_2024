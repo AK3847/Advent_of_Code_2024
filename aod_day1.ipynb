{
 "cells": [
  {
   "cell_type": "code",
   "execution_count": 2,
   "metadata": {},
   "outputs": [],
   "source": [
    "input = [i.strip().split() for i in open(\"input_data/day1.txt\", \"r\").readlines()]"
   ]
  },
  {
   "cell_type": "code",
   "execution_count": 3,
   "metadata": {},
   "outputs": [],
   "source": [
    "l1 = [int(i[0]) for i in input]\n",
    "l2 = [int(i[1]) for i in input]"
   ]
  },
  {
   "cell_type": "code",
   "execution_count": 4,
   "metadata": {},
   "outputs": [],
   "source": [
    "l1 = sorted(l1)\n",
    "l2 = sorted(l2)"
   ]
  },
  {
   "cell_type": "code",
   "execution_count": null,
   "metadata": {},
   "outputs": [],
   "source": [
    "def part_1():\n",
    "    sum = 0\n",
    "    for i in range(len(l1)):\n",
    "        sum += abs(l1[i] - l2[i])\n",
    "    print(sum)\n",
    "\n",
    "\n",
    "part_1()"
   ]
  },
  {
   "cell_type": "code",
   "execution_count": null,
   "metadata": {},
   "outputs": [],
   "source": [
    "def part_2():\n",
    "    sum = 0\n",
    "    for i in l1:\n",
    "        sum += l2.count(i) * i\n",
    "    print(sum)\n",
    "\n",
    "\n",
    "part_2()"
   ]
  }
 ],
 "metadata": {
  "kernelspec": {
   "display_name": "mlenv",
   "language": "python",
   "name": "python3"
  },
  "language_info": {
   "codemirror_mode": {
    "name": "ipython",
    "version": 3
   },
   "file_extension": ".py",
   "mimetype": "text/x-python",
   "name": "python",
   "nbconvert_exporter": "python",
   "pygments_lexer": "ipython3",
   "version": "3.10.4"
  }
 },
 "nbformat": 4,
 "nbformat_minor": 2
}
