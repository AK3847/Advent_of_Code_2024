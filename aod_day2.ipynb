{
 "cells": [
  {
   "cell_type": "code",
   "execution_count": null,
   "metadata": {},
   "outputs": [],
   "source": [
    "input = list(\n",
    "    map(\n",
    "        lambda x: [int(i) for i in x],\n",
    "        [x.strip().split() for x in open(\"input_data/day2.txt\").readlines()],\n",
    "    )\n",
    ")"
   ]
  },
  {
   "cell_type": "code",
   "execution_count": 41,
   "metadata": {},
   "outputs": [],
   "source": [
    "p1, p2 = 0, 0"
   ]
  },
  {
   "cell_type": "code",
   "execution_count": null,
   "metadata": {},
   "outputs": [],
   "source": [
    "def check(l):\n",
    "    if not l:\n",
    "        return 0\n",
    "    increasing = l[0] < l[1]\n",
    "    for i in range(len(l) - 1):\n",
    "        if increasing:\n",
    "            if not (l[i] < l[i + 1] and 1 <= l[i + 1] - l[i] <= 3):\n",
    "                return 0\n",
    "        else:\n",
    "            if not (l[i] > l[i + 1] and 1 <= l[i] - l[i + 1] <= 3):\n",
    "                return 0\n",
    "    return 1"
   ]
  },
  {
   "cell_type": "code",
   "execution_count": null,
   "metadata": {},
   "outputs": [],
   "source": [
    "for line in input:\n",
    "    if check(line):\n",
    "        p1 += 1\n",
    "        p2 += 1\n",
    "    elif any([check(l) for l in [line[:i] + line[i + 1 :] for i in range(len(line))]]):\n",
    "        p2 += 1"
   ]
  },
  {
   "cell_type": "code",
   "execution_count": null,
   "metadata": {},
   "outputs": [],
   "source": [
    "print(p1, p2)"
   ]
  }
 ],
 "metadata": {
  "kernelspec": {
   "display_name": "Python 3",
   "language": "python",
   "name": "python3"
  },
  "language_info": {
   "codemirror_mode": {
    "name": "ipython",
    "version": 3
   },
   "file_extension": ".py",
   "mimetype": "text/x-python",
   "name": "python",
   "nbconvert_exporter": "python",
   "pygments_lexer": "ipython3",
   "version": "3.12.7"
  }
 },
 "nbformat": 4,
 "nbformat_minor": 2
}
