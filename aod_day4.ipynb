{
 "cells": [
  {
   "cell_type": "code",
   "execution_count": 2,
   "metadata": {},
   "outputs": [],
   "source": [
    "word_lines = []\n",
    "with open(\"input_data/day4.txt\") as f:\n",
    "    for l in f.readlines():\n",
    "        word_lines.append(list(l.strip()))\n",
    "total_lines = len(word_lines)"
   ]
  },
  {
   "cell_type": "code",
   "execution_count": null,
   "metadata": {},
   "outputs": [],
   "source": [
    "ans = 0\n",
    "for i in range(total_lines):\n",
    "    for j in range(total_lines):\n",
    "        if word_lines[i][j] != \"X\":\n",
    "            continue\n",
    "        for dx in [-1, 0, 1]:\n",
    "            for dy in [-1, 0, 1]:\n",
    "                if (dx, dy) == (0, 0):\n",
    "                    continue\n",
    "                if (i + 3 * dx) in range(0, total_lines) and (j + 3 * dy) in range(\n",
    "                    0, total_lines\n",
    "                ):\n",
    "                    if (\n",
    "                        \"\".join(word_lines[i + z * dx][j + z * dy] for z in range(4))\n",
    "                        == \"XMAS\"\n",
    "                    ):\n",
    "                        ans += 1\n",
    "ans"
   ]
  },
  {
   "cell_type": "code",
   "execution_count": null,
   "metadata": {},
   "outputs": [],
   "source": [
    "ans2 = 0\n",
    "for i in range(total_lines):\n",
    "    for j in range(total_lines):\n",
    "        if word_lines[i][j] != \"A\":\n",
    "            continue\n",
    "        if (i + 1) not in range(total_lines):\n",
    "            continue\n",
    "        if (j + 1) not in range(total_lines):\n",
    "            continue\n",
    "        if (i - 1) not in range(total_lines):\n",
    "            continue\n",
    "        if (j - 1) not in range(total_lines):\n",
    "            continue\n",
    "        if not (word_lines[i - 1][j + 1], word_lines[i + 1][j - 1]) in (\n",
    "            (\"M\", \"S\"),\n",
    "            (\"S\", \"M\"),\n",
    "        ):\n",
    "            continue\n",
    "        if not (word_lines[i - 1][j - 1], word_lines[i + 1][j + 1]) in (\n",
    "            (\"M\", \"S\"),\n",
    "            (\"S\", \"M\"),\n",
    "        ):\n",
    "            continue\n",
    "        ans2 += 1\n",
    "ans2"
   ]
  }
 ],
 "metadata": {
  "kernelspec": {
   "display_name": "Python 3",
   "language": "python",
   "name": "python3"
  },
  "language_info": {
   "codemirror_mode": {
    "name": "ipython",
    "version": 3
   },
   "file_extension": ".py",
   "mimetype": "text/x-python",
   "name": "python",
   "nbconvert_exporter": "python",
   "pygments_lexer": "ipython3",
   "version": "3.12.7"
  }
 },
 "nbformat": 4,
 "nbformat_minor": 2
}
