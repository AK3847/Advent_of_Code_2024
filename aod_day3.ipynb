{
 "cells": [
  {
   "cell_type": "code",
   "execution_count": 1,
   "metadata": {},
   "outputs": [],
   "source": [
    "input_text = open(\"input_data/day3.txt\", \"r\").read()\n",
    "mul_pattern = r\"mul\\((\\d+),(\\d+)\\)\""
   ]
  },
  {
   "cell_type": "code",
   "execution_count": null,
   "metadata": {},
   "outputs": [],
   "source": [
    "import re\n",
    "\n",
    "\n",
    "def find_mul(text):\n",
    "    return sum(int(a) * int(b) for a, b in re.findall(mul_pattern, text))\n",
    "\n",
    "\n",
    "part_1 = find_mul(input_text)\n",
    "part_1"
   ]
  },
  {
   "cell_type": "code",
   "execution_count": null,
   "metadata": {},
   "outputs": [],
   "source": [
    "part_2 = 0\n",
    "left_indx = 0\n",
    "do = 1\n",
    "for i in range(len(input_text)):\n",
    "    if input_text[i : i + 7] == \"don't()\" and do:\n",
    "        part_2 += find_mul(input_text[left_indx:i])\n",
    "        do = 0\n",
    "    elif input_text[i : i + 4] == \"do()\" and not do:\n",
    "        left_indx = i + 4\n",
    "        do = 1\n",
    "if do:\n",
    "    part_2 += find_mul(input_text[left_indx:])\n",
    "part_2"
   ]
  }
 ],
 "metadata": {
  "kernelspec": {
   "display_name": "Python 3",
   "language": "python",
   "name": "python3"
  },
  "language_info": {
   "codemirror_mode": {
    "name": "ipython",
    "version": 3
   },
   "file_extension": ".py",
   "mimetype": "text/x-python",
   "name": "python",
   "nbconvert_exporter": "python",
   "pygments_lexer": "ipython3",
   "version": "3.12.7"
  }
 },
 "nbformat": 4,
 "nbformat_minor": 2
}
